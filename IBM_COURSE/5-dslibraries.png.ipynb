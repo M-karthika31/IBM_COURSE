{
 "cells": [
  {
   "cell_type": "code",
   "execution_count": null,
   "id": "c3029f33-aa74-45b0-9702-35b9c869d5c1",
   "metadata": {},
   "outputs": [],
   "source": [
    "## Data Science Libraries\n",
    "\n",
    "Some of the commonly used libraries used by Data Scientists include:\n",
    "\n",
    "1. Pandas  \n",
    "2. NumPy  \n",
    "3. Matplotlib  \n",
    "4. Scikit-learn  \n",
    "5. TensorFlow\n"
   ]
  }
 ],
 "metadata": {
  "kernelspec": {
   "display_name": "Python 3 (ipykernel)",
   "language": "python",
   "name": "python3"
  },
  "language_info": {
   "codemirror_mode": {
    "name": "ipython",
    "version": 3
   },
   "file_extension": ".py",
   "mimetype": "text/x-python",
   "name": "python",
   "nbconvert_exporter": "python",
   "pygments_lexer": "ipython3",
   "version": "3.12.8"
  }
 },
 "nbformat": 4,
 "nbformat_minor": 5
}
