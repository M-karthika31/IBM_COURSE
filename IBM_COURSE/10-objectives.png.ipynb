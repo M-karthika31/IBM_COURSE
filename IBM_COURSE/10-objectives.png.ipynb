{
 "cells": [
  {
   "cell_type": "markdown",
   "id": "acb17171-c086-4f2a-883d-cac13a5c74ee",
   "metadata": {},
   "source": [
    "## Objectives\n",
    "\n",
    "In this notebook, you will learn:\n",
    "\n",
    "- List popular languages for Data Science  \n",
    "- List commonly used libraries by Data Scientists  \n",
    "- Create tables and lists using markdown  \n",
    "- Perform basic arithmetic operations using Python\n"
   ]
  }
 ],
 "metadata": {
  "kernelspec": {
   "display_name": "Python 3 (ipykernel)",
   "language": "python",
   "name": "python3"
  },
  "language_info": {
   "codemirror_mode": {
    "name": "ipython",
    "version": 3
   },
   "file_extension": ".py",
   "mimetype": "text/x-python",
   "name": "python",
   "nbconvert_exporter": "python",
   "pygments_lexer": "ipython3",
   "version": "3.12.8"
  }
 },
 "nbformat": 4,
 "nbformat_minor": 5
}
