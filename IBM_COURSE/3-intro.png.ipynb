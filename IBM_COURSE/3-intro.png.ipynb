{
 "cells": [
  {
   "cell_type": "markdown",
   "id": "f6e56805-8003-4328-8fd9-f4db1cd3308d",
   "metadata": {},
   "source": [
    "In this notebook, Data Science tools and ecosystem are summarized. We will explore various programming languages, libraries, and tools commonly used in the field of Data Science.\n"
   ]
  }
 ],
 "metadata": {
  "kernelspec": {
   "display_name": "Python 3 (ipykernel)",
   "language": "python",
   "name": "python3"
  },
  "language_info": {
   "codemirror_mode": {
    "name": "ipython",
    "version": 3
   },
   "file_extension": ".py",
   "mimetype": "text/x-python",
   "name": "python",
   "nbconvert_exporter": "python",
   "pygments_lexer": "ipython3",
   "version": "3.12.8"
  }
 },
 "nbformat": 4,
 "nbformat_minor": 5
}
