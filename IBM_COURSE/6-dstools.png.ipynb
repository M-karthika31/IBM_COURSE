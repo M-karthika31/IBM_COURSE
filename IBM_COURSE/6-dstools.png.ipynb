{
 "cells": [
  {
   "cell_type": "code",
   "execution_count": null,
   "id": "fcc05c5d-ff8b-458d-9bbe-aca59d59657d",
   "metadata": {},
   "outputs": [],
   "source": [
    "## Table of Data Science Tools\n",
    "\n",
    "| Tool           | Description                      |\n",
    "|----------------|----------------------------------|\n",
    "| Jupyter        | Interactive coding environment   |\n",
    "| RStudio        | IDE for R                        |\n",
    "| Apache Spark   | Big data processing framework    |\n",
    "| Tableau        | Data visualization tool          |\n",
    "| TensorFlow     | Machine learning library         |\n"
   ]
  }
 ],
 "metadata": {
  "kernelspec": {
   "display_name": "Python 3 (ipykernel)",
   "language": "python",
   "name": "python3"
  },
  "language_info": {
   "codemirror_mode": {
    "name": "ipython",
    "version": 3
   },
   "file_extension": ".py",
   "mimetype": "text/x-python",
   "name": "python",
   "nbconvert_exporter": "python",
   "pygments_lexer": "ipython3",
   "version": "3.12.8"
  }
 },
 "nbformat": 4,
 "nbformat_minor": 5
}
