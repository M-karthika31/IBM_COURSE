{
 "cells": [
  {
   "cell_type": "markdown",
   "id": "e9909201-a251-4f68-b3b5-ece33c5bbe11",
   "metadata": {},
   "source": [
    "## Arithmetic Expressions\n",
    "\n",
    "Below are some examples of evaluating arithmetic expressions in Python.\n"
   ]
  }
 ],
 "metadata": {
  "kernelspec": {
   "display_name": "Python 3 (ipykernel)",
   "language": "python",
   "name": "python3"
  },
  "language_info": {
   "codemirror_mode": {
    "name": "ipython",
    "version": 3
   },
   "file_extension": ".py",
   "mimetype": "text/x-python",
   "name": "python",
   "nbconvert_exporter": "python",
   "pygments_lexer": "ipython3",
   "version": "3.12.8"
  }
 },
 "nbformat": 4,
 "nbformat_minor": 5
}
